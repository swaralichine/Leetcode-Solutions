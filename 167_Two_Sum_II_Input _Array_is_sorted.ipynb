{
  "nbformat": 4,
  "nbformat_minor": 0,
  "metadata": {
    "colab": {
      "name": "Untitled15.ipynb",
      "provenance": [],
      "authorship_tag": "ABX9TyMeYf/fhTp9c/Ne9uWNnznY",
      "include_colab_link": true
    },
    "kernelspec": {
      "name": "python3",
      "display_name": "Python 3"
    },
    "language_info": {
      "name": "python"
    }
  },
  "cells": [
    {
      "cell_type": "markdown",
      "metadata": {
        "id": "view-in-github",
        "colab_type": "text"
      },
      "source": [
        "<a href=\"https://colab.research.google.com/github/swaralichine/Neetcode-Solutions/blob/main/167_Two_Sum_II_Input%20_Array_is_sorted.ipynb\" target=\"_parent\"><img src=\"https://colab.research.google.com/assets/colab-badge.svg\" alt=\"Open In Colab\"/></a>"
      ]
    },
    {
      "cell_type": "code",
      "execution_count": null,
      "metadata": {
        "id": "tp9WkNncv2Vb"
      },
      "outputs": [],
      "source": [
        ""
      ]
    },
    {
      "cell_type": "markdown",
      "source": [
        "**Code by - Swarali Chine**"
      ],
      "metadata": {
        "id": "YVkdWS9nv3CG"
      }
    },
    {
      "cell_type": "code",
      "source": [
        "//Two pointers and Binary Search approach\n",
        "//Tip - Array is sorted\n",
        "//Time Complexity - O(n) \n",
        "//Space Complexity - O(1)\n",
        "class Solution \n",
        "{\n",
        "public:\n",
        "    vector<int> twoSum(vector<int>& numbers, int target) \n",
        "    {\n",
        "        int low = 0;   //first pointer\n",
        "        int high = numbers.size()-1;   //second pointer\n",
        "        while(low < high)\n",
        "        {\n",
        "            int sum = numbers[low] + numbers[high];   //find sum\n",
        "            if(sum == target)\n",
        "            {\n",
        "                return {low+1,high+1};  //add one for zero base indexing\n",
        "            }\n",
        "            else if(sum < target)\n",
        "            {\n",
        "                low++;\n",
        "            }\n",
        "            else\n",
        "            {\n",
        "                high--;\n",
        "            }\n",
        "        }\n",
        "        return {-1,-1};   //in case of no solution found\n",
        "    }\n",
        "};"
      ],
      "metadata": {
        "id": "asoYJ9_SwAPi"
      },
      "execution_count": null,
      "outputs": []
    }
  ]
}