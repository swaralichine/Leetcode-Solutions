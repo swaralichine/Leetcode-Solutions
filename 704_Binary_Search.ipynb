{
  "nbformat": 4,
  "nbformat_minor": 0,
  "metadata": {
    "colab": {
      "name": "Untitled7.ipynb",
      "provenance": [],
      "authorship_tag": "ABX9TyOZ3CJPD/xoYiX2jeeIeVT6",
      "include_colab_link": true
    },
    "kernelspec": {
      "name": "python3",
      "display_name": "Python 3"
    },
    "language_info": {
      "name": "python"
    }
  },
  "cells": [
    {
      "cell_type": "markdown",
      "metadata": {
        "id": "view-in-github",
        "colab_type": "text"
      },
      "source": [
        "<a href=\"https://colab.research.google.com/github/swaralichine/Neetcode-Solutions/blob/main/704_Binary_Search.ipynb\" target=\"_parent\"><img src=\"https://colab.research.google.com/assets/colab-badge.svg\" alt=\"Open In Colab\"/></a>"
      ]
    },
    {
      "cell_type": "code",
      "execution_count": null,
      "metadata": {
        "id": "XSCJX8ZpWA58"
      },
      "outputs": [],
      "source": [
        ""
      ]
    },
    {
      "cell_type": "markdown",
      "source": [
        "Code By - Swarali **Chine**"
      ],
      "metadata": {
        "id": "trqSAHN4WBga"
      }
    },
    {
      "cell_type": "code",
      "source": [
        "//Binary Search\n",
        "//Time Complexity = O(logn)\n",
        "class Solution \n",
        "{\n",
        "public:\n",
        "    int search(vector<int>& nums, int target) \n",
        "    {\n",
        "        int low = 0;\n",
        "        int high = nums.size()-1;\n",
        "        while(low<=high)\n",
        "        {\n",
        "            int mid = (high + low)/2;  //calculate the mid index\n",
        "            if(nums[mid] == target)\n",
        "            {\n",
        "                return mid;\n",
        "            }\n",
        "            if(nums[mid] < target)   //if the target is greater than the middle index element\n",
        "            {\n",
        "                low = mid+1;   //increase the lower bound index\n",
        "            }\n",
        "            else    // if the target is less than the middle index element\n",
        "            {\n",
        "                high = mid-1;  //decrease the high bound index\n",
        "            }\n",
        "        }\n",
        "        return -1;\n",
        "    }\n",
        "};\n"
      ],
      "metadata": {
        "id": "yEgpjmNmWECh"
      },
      "execution_count": null,
      "outputs": []
    }
  ]
}