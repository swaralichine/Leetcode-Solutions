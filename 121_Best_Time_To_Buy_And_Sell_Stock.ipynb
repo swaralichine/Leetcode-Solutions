{
  "nbformat": 4,
  "nbformat_minor": 0,
  "metadata": {
    "colab": {
      "name": "Untitled14.ipynb",
      "provenance": [],
      "authorship_tag": "ABX9TyOpDmp4DfGhVEe9NraPITnm",
      "include_colab_link": true
    },
    "kernelspec": {
      "name": "python3",
      "display_name": "Python 3"
    },
    "language_info": {
      "name": "python"
    }
  },
  "cells": [
    {
      "cell_type": "markdown",
      "metadata": {
        "id": "view-in-github",
        "colab_type": "text"
      },
      "source": [
        "<a href=\"https://colab.research.google.com/github/swaralichine/Neetcode-Solutions/blob/main/121_Best_Time_To_Buy_And_Sell_Stock.ipynb\" target=\"_parent\"><img src=\"https://colab.research.google.com/assets/colab-badge.svg\" alt=\"Open In Colab\"/></a>"
      ]
    },
    {
      "cell_type": "code",
      "execution_count": null,
      "metadata": {
        "id": "xg3oV_ecShuq"
      },
      "outputs": [],
      "source": [
        ""
      ]
    },
    {
      "cell_type": "markdown",
      "source": [
        "**Code By - Swarali Chine**"
      ],
      "metadata": {
        "id": "B8x91sDxSiVI"
      }
    },
    {
      "cell_type": "code",
      "source": [
        "//Sliding Window Technique\n",
        "//Time Complexity = O(n) : Only one pass is needed\n",
        "//Space Complexity = O(1) : Only two variables are used\n",
        "class Solution \n",
        "{\n",
        "public:\n",
        "    int maxProfit(vector<int>& prices)\n",
        "    {\n",
        "        int max_profit=0;   //initialize maximum profit equal to zero\n",
        "        int min_price=INT_MAX;    //initialize minimum price as maximum value\n",
        "        for(int i=0;i<prices.size();i++)\n",
        "        {\n",
        "            if(prices[i] < min_price)\n",
        "            {\n",
        "                min_price=prices[i];    //update minimum price to the current lowest price\n",
        "            }\n",
        "            else if(prices[i] - min_price > max_profit)\n",
        "            {\n",
        "                max_profit = prices[i] - min_price;\n",
        "            }\n",
        "        }\n",
        "        return max_profit;\n",
        "    }\n",
        "};"
      ],
      "metadata": {
        "id": "05BKFLqBSn4t"
      },
      "execution_count": null,
      "outputs": []
    }
  ]
}