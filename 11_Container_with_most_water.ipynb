{
  "nbformat": 4,
  "nbformat_minor": 0,
  "metadata": {
    "colab": {
      "name": "Untitled16.ipynb",
      "provenance": [],
      "authorship_tag": "ABX9TyNAEOO+ssC9NupHHBuT6XIk",
      "include_colab_link": true
    },
    "kernelspec": {
      "name": "python3",
      "display_name": "Python 3"
    },
    "language_info": {
      "name": "python"
    }
  },
  "cells": [
    {
      "cell_type": "markdown",
      "metadata": {
        "id": "view-in-github",
        "colab_type": "text"
      },
      "source": [
        "<a href=\"https://colab.research.google.com/github/swaralichine/Neetcode-Solutions/blob/main/11_Container_with_most_water.ipynb\" target=\"_parent\"><img src=\"https://colab.research.google.com/assets/colab-badge.svg\" alt=\"Open In Colab\"/></a>"
      ]
    },
    {
      "cell_type": "markdown",
      "source": [
        "**Code By - Swarali Chine**\n",
        "11. Container with most water"
      ],
      "metadata": {
        "id": "JPOv_zxW7fRe"
      }
    },
    {
      "cell_type": "code",
      "execution_count": null,
      "metadata": {
        "id": "fbm7PXHm7bza"
      },
      "outputs": [],
      "source": [
        "//Two Pointer Technique\n",
        "//Time Complexity = O(n),Single pass\n",
        "//Space Complexity = O(1)\n",
        "class Solution \n",
        "{\n",
        "public:\n",
        "    int maxArea(vector<int>& height) \n",
        "    {\n",
        "        int max_water = 0;\n",
        "        int left = 0;  //pointer 1\n",
        "        int right = height.size()-1;  //pointer 2\n",
        "        while(left < right) \n",
        "        {\n",
        "            if(height[left] < height[right])   //if right side is greater than left we increase                                                    left pointer\n",
        "            {\n",
        "                max_water = max(max_water, height[left]*(right-left));  \n",
        "                left++;\n",
        "            }\n",
        "            else      //if left side is greater than right we decrease the right pointer\n",
        "            {\n",
        "                max_water = max(max_water,height[right]*(right-left));\n",
        "                right--;\n",
        "            }\n",
        "        }\n",
        "        return max_water;\n",
        "    }\n",
        "};\n",
        "\n"
      ]
    }
  ]
}