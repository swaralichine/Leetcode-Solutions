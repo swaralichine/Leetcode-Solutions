{
  "nbformat": 4,
  "nbformat_minor": 0,
  "metadata": {
    "colab": {
      "name": "Untitled12.ipynb",
      "provenance": [],
      "authorship_tag": "ABX9TyPSEXVxqqKw01hEnivo6TsB",
      "include_colab_link": true
    },
    "kernelspec": {
      "name": "python3",
      "display_name": "Python 3"
    },
    "language_info": {
      "name": "python"
    }
  },
  "cells": [
    {
      "cell_type": "markdown",
      "metadata": {
        "id": "view-in-github",
        "colab_type": "text"
      },
      "source": [
        "<a href=\"https://colab.research.google.com/github/swaralichine/Neetcode-Solutions/blob/main/1_Two_Sum.ipynb\" target=\"_parent\"><img src=\"https://colab.research.google.com/assets/colab-badge.svg\" alt=\"Open In Colab\"/></a>"
      ]
    },
    {
      "cell_type": "code",
      "execution_count": null,
      "metadata": {
        "id": "5lThkIYjHCHb"
      },
      "outputs": [],
      "source": [
        ""
      ]
    },
    {
      "cell_type": "markdown",
      "source": [
        "**Code by - Swarali Chine**"
      ],
      "metadata": {
        "id": "f_T90EWsHC4P"
      }
    },
    {
      "cell_type": "markdown",
      "source": [
        "1. Two Sum"
      ],
      "metadata": {
        "id": "f29u80f5HF6E"
      }
    },
    {
      "cell_type": "code",
      "source": [
        "class Solution \n",
        "{\n",
        "public:\n",
        "    vector<int> twoSum(vector<int>& nums, int target) \n",
        "    {\n",
        "          if(nums.size() == 0)   //base case \n",
        "          {\n",
        "              return nums;\n",
        "          }\n",
        "        vector<int> ans;       //to store the result\n",
        "        unordered_map<int,int> res;  //we are picking the number and searching in map for the                                           other number, if found we are returning the indexes of both                                       else we are pushing the number into map along with its                                             index.\n",
        "        for(int i=0;i<nums.size();i++)\n",
        "        {\n",
        "            if(res.find(target-nums[i]) != res.end())   //search for the element\n",
        "            {\n",
        "                ans.push_back(res[target-nums[i]]);   //if found,push the second index onto the                                                           ans vector\n",
        "                ans.push_back(i);    //push the first index onto the ans vector\n",
        "                return ans;\n",
        "            }\n",
        "           res[nums[i]]=i;         //if the element is not found,store the element onto the map\n",
        "        }\n",
        "        return ans;\n",
        "    }\n",
        "};"
      ],
      "metadata": {
        "id": "-viNeJFoHJq2"
      },
      "execution_count": null,
      "outputs": []
    }
  ]
}