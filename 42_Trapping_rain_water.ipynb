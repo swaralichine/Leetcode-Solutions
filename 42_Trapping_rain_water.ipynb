{
  "nbformat": 4,
  "nbformat_minor": 0,
  "metadata": {
    "colab": {
      "name": "Untitled16.ipynb",
      "provenance": [],
      "authorship_tag": "ABX9TyPdyWQIaLO9Sloqc4x20C/a",
      "include_colab_link": true
    },
    "kernelspec": {
      "name": "python3",
      "display_name": "Python 3"
    },
    "language_info": {
      "name": "python"
    }
  },
  "cells": [
    {
      "cell_type": "markdown",
      "metadata": {
        "id": "view-in-github",
        "colab_type": "text"
      },
      "source": [
        "<a href=\"https://colab.research.google.com/github/swaralichine/Neetcode-Solutions/blob/main/42_Trapping_rain_water.ipynb\" target=\"_parent\"><img src=\"https://colab.research.google.com/assets/colab-badge.svg\" alt=\"Open In Colab\"/></a>"
      ]
    },
    {
      "cell_type": "markdown",
      "source": [
        "**Code By - Swarali Chine**\n",
        "42. Trapping rain water"
      ],
      "metadata": {
        "id": "JPOv_zxW7fRe"
      }
    },
    {
      "cell_type": "code",
      "execution_count": null,
      "metadata": {
        "id": "fbm7PXHm7bza"
      },
      "outputs": [],
      "source": [
        "//Two Pointer Approach\n",
        "//Time Complexity = O(n)\n",
        "//Space Complexity = O(1)\n",
        "\n",
        "//Initialize left pointer to zero and right pointer to size-1,left_max=0,right_max=0\n",
        "//While left < right do,\n",
        "//If height[left] < height[right]\n",
        " //If height[left] >= left_max,update left_max=height[left]\n",
        " //else add left_max-height[left] to ans\n",
        " //left+1\n",
        "//Else\n",
        " //If height[right] >=right_max,update right_max=height[right]\n",
        " //else add right_max-height[right] to ans\n",
        " //right-1\n",
        "\n",
        "class Solution {\n",
        "public:\n",
        "    int trap(vector<int>& height) \n",
        "    {\n",
        "        int n = height.size();\n",
        "        int left= 0;\n",
        "        int right= n-1;\n",
        "        int trapwater= 0;\n",
        "        \n",
        "        int maxLeft= height[left];\n",
        "        int maxRight= height[right];\n",
        "        \n",
        "        while(left< right)\n",
        "        {\n",
        "            if(height[left]<= height[right])\n",
        "            {\n",
        "                maxLeft= max(maxLeft, height[left]); //continuously find the max height on                                                              left\n",
        "                trapwater = trapwater + (maxLeft- height[left]);\n",
        "                left++;\n",
        "            }\n",
        "            else\n",
        "            {\n",
        "                maxRight= max(maxRight, height[right]);    //continuously find the max height on                                                              right\n",
        "                trapwater = trapwater + (maxRight- height[right]);\n",
        "                right--;\n",
        "            }\n",
        "        }\n",
        "        return trapwater;\n",
        "    }\n",
        "};"
      ]
    }
  ]
}