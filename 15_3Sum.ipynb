{
  "nbformat": 4,
  "nbformat_minor": 0,
  "metadata": {
    "colab": {
      "name": "Untitled16.ipynb",
      "provenance": [],
      "authorship_tag": "ABX9TyOzot0EAsDp/u9SyGKO1gbf",
      "include_colab_link": true
    },
    "kernelspec": {
      "name": "python3",
      "display_name": "Python 3"
    },
    "language_info": {
      "name": "python"
    }
  },
  "cells": [
    {
      "cell_type": "markdown",
      "metadata": {
        "id": "view-in-github",
        "colab_type": "text"
      },
      "source": [
        "<a href=\"https://colab.research.google.com/github/swaralichine/Neetcode-Solutions/blob/main/15_3Sum.ipynb\" target=\"_parent\"><img src=\"https://colab.research.google.com/assets/colab-badge.svg\" alt=\"Open In Colab\"/></a>"
      ]
    },
    {
      "cell_type": "markdown",
      "source": [
        "**Code By - Swarali Chine**\n",
        "15. 3Sum"
      ],
      "metadata": {
        "id": "JPOv_zxW7fRe"
      }
    },
    {
      "cell_type": "code",
      "execution_count": null,
      "metadata": {
        "id": "fbm7PXHm7bza"
      },
      "outputs": [],
      "source": [
        "//Two Pointers technique - Time Complexity = O(n^2)\n",
        "//Steps to follow:\n",
        "//1. For the main function\n",
        "//Sort the input array\n",
        "//Iterate through the array:\n",
        "//If the current value is greater than zero, break the loop. Remaining values cannot sum to zero\n",
        "//If the current value is the same as the one before,skip it\n",
        "//Otherwise call twosumII for the current position i\n",
        "//2. For twosumII function:\n",
        "//Set the low pointer to i+1 and high pointer to the last index\n",
        "//While the low pointer is smaller than high\n",
        "//If the sum of nums[i]+nums[low]+nums[high] < 0 then increment low\n",
        "//If the sum is greater than zero then decrement high\n",
        "//Otherwise we found the triplet\n",
        "//Add it to the answer \n",
        "//Decrement high,increment low\n",
        "//Increment low while the next value is the same as before to avoid duplicates in the answer\n",
        "\n",
        "class Solution \n",
        "{\n",
        "public:\n",
        "    vector<vector<int>> threeSum(vector<int>& nums)\n",
        "    {\n",
        "\t\t\n",
        "        int len=nums.size();\n",
        "        vector<vector<int>> ans;\n",
        "        \n",
        "        if(len<3)\n",
        "        {\n",
        "          return ans;\n",
        "        }\n",
        "    \n",
        "        sort(nums.begin(),nums.end());\n",
        "        \n",
        "        for(int i = 0; i<len; i++)\n",
        "        {\n",
        "            if(i>0 && nums[i] == nums[i-1])\n",
        "            {\n",
        "             continue; \n",
        "            }\n",
        "\t\t\t  \n",
        "            int left = i + 1, right = nums.size() - 1; \n",
        "            \n",
        "            while(left<right) \n",
        "            {    \n",
        "                if(nums[i] + nums[left] + nums[right] == 0)\n",
        "                {\n",
        "                    ans.push_back(vector<int>{nums[i],nums[left],nums[right]});\n",
        "                 \n",
        "                    while(left<right && nums[left]==nums[left+1]) \n",
        "                    {\n",
        "                      left++;\n",
        "                    }\n",
        "                    while(left<right && nums[right]==nums[right-1]) \n",
        "                    {\n",
        "                      right--;\n",
        "                    }\n",
        "                    left++;\n",
        "                    right--;\n",
        "                }\n",
        "                else if(nums[i]+nums[left]+nums[right]<0) \n",
        "                {\n",
        "                    left++;   \n",
        "                }\n",
        "                else\n",
        "                {\n",
        "                    right--;  \n",
        "                }\n",
        "                   \n",
        "            }\n",
        "        }\n",
        "        return ans;\n",
        "    }\n",
        "};"
      ]
    }
  ]
}