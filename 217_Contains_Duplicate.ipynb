{
  "nbformat": 4,
  "nbformat_minor": 0,
  "metadata": {
    "colab": {
      "name": "Untitled10.ipynb",
      "provenance": [],
      "collapsed_sections": [],
      "authorship_tag": "ABX9TyMx8Vvmas2cxU9MzdY4A8lj",
      "include_colab_link": true
    },
    "kernelspec": {
      "name": "python3",
      "display_name": "Python 3"
    },
    "language_info": {
      "name": "python"
    }
  },
  "cells": [
    {
      "cell_type": "markdown",
      "metadata": {
        "id": "view-in-github",
        "colab_type": "text"
      },
      "source": [
        "<a href=\"https://colab.research.google.com/github/swaralichine/Neetcode-Solutions/blob/main/217_Contains_Duplicate.ipynb\" target=\"_parent\"><img src=\"https://colab.research.google.com/assets/colab-badge.svg\" alt=\"Open In Colab\"/></a>"
      ]
    },
    {
      "cell_type": "code",
      "execution_count": null,
      "metadata": {
        "id": "2PXIE-Lg6iWx"
      },
      "outputs": [],
      "source": [
        ""
      ]
    },
    {
      "cell_type": "markdown",
      "source": [
        "**Code by - Swarali Chine**\n",
        "\n",
        "217. Contains Duplicate:"
      ],
      "metadata": {
        "id": "zzfpJBj16jW8"
      }
    },
    {
      "cell_type": "markdown",
      "source": [
        ""
      ],
      "metadata": {
        "id": "FpuHFoEL6xLe"
      }
    },
    {
      "cell_type": "markdown",
      "source": [
        "//Using hashmap - 0(n)\n",
        "\n"
      ],
      "metadata": {
        "id": "gBrzWF5Q62Cd"
      }
    },
    {
      "cell_type": "code",
      "source": [
        "class Solution \n",
        "{\n",
        "public:\n",
        "    bool containsDuplicate(vector<int>& nums) \n",
        "    {\n",
        "        unordered_map<int,int> duplicate;      //declare set\n",
        "        for(int i=0;i<nums.size();i++)\n",
        "        {\n",
        "            duplicate[nums[i]]++;           //store the count\n",
        "        }\n",
        "        for(auto x:duplicate)\n",
        "        {\n",
        "            if(x.second > 1)             //if the second count in the set is greater than one\n",
        "            {\n",
        "                return true;\n",
        "            }\n",
        "        }\n",
        "        return false;\n",
        "    }\n",
        "};"
      ],
      "metadata": {
        "id": "mcLCiaQg993v"
      },
      "execution_count": null,
      "outputs": []
    },
    {
      "cell_type": "markdown",
      "source": [
        "//Using Set - 0(n)\n",
        "\n"
      ],
      "metadata": {
        "id": "v2GUYXmZ7pPJ"
      }
    },
    {
      "cell_type": "code",
      "source": [
        "class Solution \n",
        "{\n",
        "public:\n",
        "    bool containsDuplicate(vector<int>& nums) \n",
        "    {\n",
        "       unordered_set<int> duplicate;   //set data structure only stores unique elements\n",
        "       for(auto x:nums)\n",
        "       {\n",
        "           duplicate.insert(x);\n",
        "       }\n",
        "        if(duplicate.size() == nums.size())\n",
        "        {\n",
        "            return false;\n",
        "        }\n",
        "        return true;\n",
        "    }\n",
        "};"
      ],
      "metadata": {
        "id": "a_-mJVuv-BjL"
      },
      "execution_count": null,
      "outputs": []
    },
    {
      "cell_type": "markdown",
      "source": [
        "//Using Sort function - 0(nlogn)\n",
        "\n"
      ],
      "metadata": {
        "id": "vU_D1CwQ9NDH"
      }
    },
    {
      "cell_type": "code",
      "source": [
        "class Solution \n",
        "{\n",
        "public:\n",
        "    bool containsDuplicate(vector<int>& nums) \n",
        "    {\n",
        "       sort(nums.begin(),nums.end());\n",
        "        for(int i=0;i<nums.size();i++)\n",
        "        {\n",
        "            if(nums[i] == nums[i+1])\n",
        "            {\n",
        "                return true;\n",
        "            }\n",
        "        }\n",
        "        return false;\n",
        "    }\n",
        "};"
      ],
      "metadata": {
        "id": "j6dZ9QnC-Epw"
      },
      "execution_count": null,
      "outputs": []
    }
  ]
}