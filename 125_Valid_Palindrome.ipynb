{
  "nbformat": 4,
  "nbformat_minor": 0,
  "metadata": {
    "colab": {
      "name": "Untitled13.ipynb",
      "provenance": [],
      "collapsed_sections": [],
      "authorship_tag": "ABX9TyMiJvNOeKogFFsWx62ZpQJj",
      "include_colab_link": true
    },
    "kernelspec": {
      "name": "python3",
      "display_name": "Python 3"
    },
    "language_info": {
      "name": "python"
    }
  },
  "cells": [
    {
      "cell_type": "markdown",
      "metadata": {
        "id": "view-in-github",
        "colab_type": "text"
      },
      "source": [
        "<a href=\"https://colab.research.google.com/github/swaralichine/Neetcode-Solutions/blob/main/125_Valid_Palindrome.ipynb\" target=\"_parent\"><img src=\"https://colab.research.google.com/assets/colab-badge.svg\" alt=\"Open In Colab\"/></a>"
      ]
    },
    {
      "cell_type": "code",
      "execution_count": null,
      "metadata": {
        "id": "wsU5ZMv1KbHg"
      },
      "outputs": [],
      "source": [
        ""
      ]
    },
    {
      "cell_type": "markdown",
      "source": [
        "**Code By - Swarali Chine**"
      ],
      "metadata": {
        "id": "N_bbMMyOKeU1"
      }
    },
    {
      "cell_type": "markdown",
      "source": [
        "1st Approach by using two-pointers and not using isalnum()."
      ],
      "metadata": {
        "id": "ihfUqEq1OVEe"
      }
    },
    {
      "cell_type": "code",
      "source": [
        "class Solution \n",
        "{\n",
        "public:\n",
        "    bool isPalindrome(string s) \n",
        "    {\n",
        "        string curr = \"\";\n",
        "        for(int i=0;i<s.size();i++)\n",
        "        {\n",
        "            if((s[i]>='a' && s[i]<='z') || (s[i]>='A' && s[i]<='Z') || (s[i]>='0' && s[i]<='9'))  //storing all alphanueric characters into a new string curr\n",
        "            {\n",
        "                curr+=s[i];\n",
        "            }\n",
        "        }\n",
        "        transform(curr.begin(),curr.end(),curr.begin(),::tolower);  //convert to lowercase\n",
        "        int i=0,j=curr.length()-1;\n",
        "        while(i<=j)\n",
        "        {\n",
        "            if(curr[i] != curr[j])    //using two pointer technique\n",
        "            {\n",
        "                return false;\n",
        "            }\n",
        "            else\n",
        "            {\n",
        "                i++;\n",
        "                j--;\n",
        "            }\n",
        "        }\n",
        "        return true;\n",
        "    }\n",
        "};"
      ],
      "metadata": {
        "id": "Eb6KXc4AOXiJ"
      },
      "execution_count": null,
      "outputs": []
    },
    {
      "cell_type": "markdown",
      "source": [
        "2nd Approach by reversing the string and checking"
      ],
      "metadata": {
        "id": "pua5I3bzPFUf"
      }
    },
    {
      "cell_type": "code",
      "source": [
        "class Solution \n",
        "{\n",
        "public:\n",
        "    bool isPalindrome(string s) \n",
        "    {\n",
        "        string curr=\"\";\n",
        "         for(int i=0;i<s.size();i++)\n",
        "         {\n",
        "             if((s[i]>='a' && s[i]<='z') || (s[i]>='A' && s[i]<='Z') || (s[i]>='0' && s[i]<='9'))\n",
        "             {\n",
        "                 curr+=s[i];\n",
        "             }\n",
        "         }\n",
        "        transform(curr.begin(),curr.end(), curr.begin(), :: tolower);\n",
        "        string curr2= curr;\n",
        "        reverse(curr2.begin(), curr2.end());\n",
        "        if(curr2 == curr)\n",
        "        {\n",
        "            return true;\n",
        "        }\n",
        "        else\n",
        "        {\n",
        "            return false;\n",
        "        }\n",
        "    }\n",
        "};"
      ],
      "metadata": {
        "id": "3d3uilcZPJQw"
      },
      "execution_count": null,
      "outputs": []
    },
    {
      "cell_type": "markdown",
      "source": [
        "3rd approach by using isalnum()"
      ],
      "metadata": {
        "id": "Qu_219zRPMXr"
      }
    },
    {
      "cell_type": "code",
      "source": [
        "class Solution \n",
        "{\n",
        "public:\n",
        "    bool isPalindrome(string s) \n",
        "    {\n",
        "        string curr=\"\";\n",
        "        for(int i=0;i<s.size();i++)\n",
        "        {\n",
        "            if(isalnum(s[i]))   //using inbuilt function isalnum\n",
        "            {\n",
        "                curr.push_back(s[i]);\n",
        "            }\n",
        "        }\n",
        "        transform(curr.begin(),curr.end(), curr.begin(), :: tolower);\n",
        "        string curr2= curr;\n",
        "        reverse(curr2.begin(), curr2.end());\n",
        "        if(curr2==curr)\n",
        "        {\n",
        "          return true;\n",
        "        }\n",
        "        else\n",
        "        {\n",
        "          return false;   \n",
        "        }\n",
        "    }\n",
        "};"
      ],
      "metadata": {
        "id": "O_G8yXmJP9Ib"
      },
      "execution_count": null,
      "outputs": []
    }
  ]
}