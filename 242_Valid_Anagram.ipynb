{
  "nbformat": 4,
  "nbformat_minor": 0,
  "metadata": {
    "colab": {
      "name": "Untitled11.ipynb",
      "provenance": [],
      "authorship_tag": "ABX9TyOBL+KEjpbRyWzAJ1CXZ4Rc",
      "include_colab_link": true
    },
    "kernelspec": {
      "name": "python3",
      "display_name": "Python 3"
    },
    "language_info": {
      "name": "python"
    }
  },
  "cells": [
    {
      "cell_type": "markdown",
      "metadata": {
        "id": "view-in-github",
        "colab_type": "text"
      },
      "source": [
        "<a href=\"https://colab.research.google.com/github/swaralichine/Neetcode-Solutions/blob/main/242_Valid_Anagram.ipynb\" target=\"_parent\"><img src=\"https://colab.research.google.com/assets/colab-badge.svg\" alt=\"Open In Colab\"/></a>"
      ]
    },
    {
      "cell_type": "code",
      "execution_count": null,
      "metadata": {
        "id": "zm79-4NcC9zy"
      },
      "outputs": [],
      "source": [
        ""
      ]
    },
    {
      "cell_type": "markdown",
      "source": [
        "**Code by - Swarali Chine**"
      ],
      "metadata": {
        "id": "XlzdUe-DC_-U"
      }
    },
    {
      "cell_type": "markdown",
      "source": [
        "//Using Hashmap"
      ],
      "metadata": {
        "id": "E132HtVvDEcj"
      }
    },
    {
      "cell_type": "code",
      "source": [
        "class Solution \n",
        "{\n",
        "public:\n",
        "bool isAnagram(string s, string t) \n",
        "{\n",
        "\n",
        "    if(s.length()!=t.length())  //lengths of strings is not equal\n",
        "    {\n",
        "       return false;   \n",
        "    }\n",
        "    unordered_map<char,int> str1,str2;  //using hashmap to store the frequency of elements\n",
        "    \n",
        "    for(int i=0; i<s.length(); i++)\n",
        "    {\n",
        "     str1[s[i]]++;   \n",
        "    }\n",
        "    \n",
        "    for(int i=0; i<s.length(); i++)\n",
        "    {\n",
        "      str2[t[i]]++;   \n",
        "    }\n",
        "    \n",
        "    for(int i=0; i<s.length(); i++)    \n",
        "    {\n",
        "        if(str1[s[i]]!=str2[s[i]])  //if the count of elements is not same\n",
        "            return false;   \n",
        "    }\n",
        "    return true;\n",
        "}\n",
        "};\n",
        "\n"
      ],
      "metadata": {
        "id": "Gn0PEre6DHWi"
      },
      "execution_count": null,
      "outputs": []
    }
  ]
}